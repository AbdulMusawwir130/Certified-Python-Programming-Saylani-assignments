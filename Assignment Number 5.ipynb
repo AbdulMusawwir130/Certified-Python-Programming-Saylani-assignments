{
 "cells": [
  {
   "cell_type": "code",
   "execution_count": 2,
   "metadata": {},
   "outputs": [
    {
     "name": "stdout",
     "output_type": "stream",
     "text": [
      "Input a number to compute the factiorial : 2\n",
      "2\n"
     ]
    }
   ],
   "source": [
    "## question 1##\n",
    "def factorial(n):\n",
    "    if n == 0:\n",
    "        return 1\n",
    "    else:\n",
    "        return n * factorial(n-1)\n",
    "n=int(input(\"Input a number to compute the factiorial : \"))\n",
    "print(factorial(n))"
   ]
  },
  {
   "cell_type": "code",
   "execution_count": 3,
   "metadata": {},
   "outputs": [
    {
     "name": "stdout",
     "output_type": "stream",
     "text": [
      "Enter stringDub\n",
      "Original String :  Dub\n",
      "No. of Upper case characters :  1\n",
      "No. of Lower case Characters :  2\n"
     ]
    }
   ],
   "source": [
    "##question 2##\n",
    "words = str(input(\"Enter string\"))\n",
    "def string(s):\n",
    "    a={\"UPPER_CASE\":0, \"LOWER_CASE\":0}\n",
    "    for x in s:\n",
    "        if x.isupper():\n",
    "           a[\"UPPER_CASE\"]+=1\n",
    "        elif x.islower():\n",
    "           a[\"LOWER_CASE\"]+=1\n",
    "        else:\n",
    "           pass\n",
    "    print (\"Original String : \", s)\n",
    "    print (\"No. of Upper case characters : \", a[\"UPPER_CASE\"])\n",
    "    print (\"No. of Lower case Characters : \", a[\"LOWER_CASE\"])\n",
    "\n",
    "string(words)"
   ]
  },
  {
   "cell_type": "code",
   "execution_count": 4,
   "metadata": {},
   "outputs": [
    {
     "name": "stdout",
     "output_type": "stream",
     "text": [
      "[0, 2, 4, 6, 8, 10, 12, 14, 16, 18, 20]\n"
     ]
    }
   ],
   "source": [
    "##question 3##\n",
    "def even(x):\n",
    "    num = []\n",
    "    for n in x:\n",
    "        if n % 2 == 0:\n",
    "            num.append(n)\n",
    "    return num\n",
    "result =even([0,1, 2, 3, 4, 5, 6, 7, 8, 9,10,11,12,13,14,15,16,17,18,19,20])\n",
    "print(result)"
   ]
  },
  {
   "cell_type": "code",
   "execution_count": 5,
   "metadata": {},
   "outputs": [
    {
     "name": "stdout",
     "output_type": "stream",
     "text": [
      "True\n"
     ]
    }
   ],
   "source": [
    "##question 4##\n",
    "def palindrome(string):\n",
    "    left_pos = 0\n",
    "    right_pos = len(string) - 1\n",
    "    while right_pos >= left_pos:\n",
    "        if not string[left_pos] == string[right_pos]:\n",
    "            return False\n",
    "        left_pos += 1\n",
    "        right_pos -= 1\n",
    "    return True\n",
    "result = palindrome(\"madam\")\n",
    "print(result)"
   ]
  },
  {
   "cell_type": "code",
   "execution_count": 10,
   "metadata": {},
   "outputs": [
    {
     "name": "stdout",
     "output_type": "stream",
     "text": [
      "Enter number:13\n",
      "True\n"
     ]
    }
   ],
   "source": [
    "##question 5##\n",
    "num = int(input(\"Enter number:\"))\n",
    "def prime(n):\n",
    "    if (n==1):\n",
    "        return False\n",
    "    elif (n==2):\n",
    "        return True;\n",
    "    else:\n",
    "        for x in range(2,n):\n",
    "            if(n % x==0):\n",
    "                return False\n",
    "        return True             \n",
    "prime(num)\n",
    "\n",
    "print(prime(num))"
   ]
  },
  {
   "cell_type": "code",
   "execution_count": 13,
   "metadata": {},
   "outputs": [
    {
     "name": "stdout",
     "output_type": "stream",
     "text": [
      "\n",
      "Enter the item you bought from market \n",
      "If you leave enter'exit': a\n",
      "\n",
      "Enter the item you bought from market \n",
      "If you leave enter'exit': s\n",
      "\n",
      "Enter the item you bought from market \n",
      "If you leave enter'exit': d\n",
      "\n",
      "Enter the item you bought from market \n",
      "If you leave enter'exit': exit\n",
      "\n",
      "***Shopping List ***\n",
      "You bought:  red\n",
      "You bought:  oxide\n",
      "You bought:  durex\n"
     ]
    }
   ],
   "source": [
    "##question 6##\n",
    "def consumer_shopping(*buy_list):\n",
    "    print(\"\\n***Shopping List ***\")    \n",
    "    for element in list:\n",
    "        print(\"You bought: \",element)\n",
    "\n",
    "buy_list = []\n",
    "\n",
    "while True:\n",
    "    items = input(\"\\nEnter the item you bought from market \\nIf you leave enter'exit': \")\n",
    "    if items == 'exit':\n",
    "        break\n",
    "    buy_list.append(items)\n",
    "\n",
    "consumer_shopping(buy_list)"
   ]
  }
 ],
 "metadata": {
  "kernelspec": {
   "display_name": "Python 3",
   "language": "python",
   "name": "python3"
  },
  "language_info": {
   "codemirror_mode": {
    "name": "ipython",
    "version": 3
   },
   "file_extension": ".py",
   "mimetype": "text/x-python",
   "name": "python",
   "nbconvert_exporter": "python",
   "pygments_lexer": "ipython3",
   "version": "3.7.3"
  }
 },
 "nbformat": 4,
 "nbformat_minor": 2
}
