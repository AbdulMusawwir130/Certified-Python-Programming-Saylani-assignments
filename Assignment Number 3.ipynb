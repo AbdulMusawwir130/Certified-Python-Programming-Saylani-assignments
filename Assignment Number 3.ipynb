{
 "cells": [
  {
   "cell_type": "code",
   "execution_count": 1,
   "metadata": {},
   "outputs": [
    {
     "name": "stdout",
     "output_type": "stream",
     "text": [
      "Enter a number: 7\n",
      "Enter a number: 9\n",
      "Enter an operator: *\n",
      "63\n"
     ]
    }
   ],
   "source": [
    "## question 1##\n",
    "num_1 = int(input(\"Enter a number: \"))\n",
    "num_2 = int(input(\"Enter a number: \"))\n",
    "action = (input(\"Enter an operator: \"))\n",
    "if action == \"+\":\n",
    "    result = num_1 + num_2\n",
    "    print (result)\n",
    "elif action == \"-\":\n",
    "    result = num_1 - num_2\n",
    "    print (result)\n",
    "elif action == \"*\":\n",
    "    result = num_1 * num_2\n",
    "    print (result)\n",
    "elif action == \"/\":\n",
    "    result = num_1 / num_2  \n",
    "    print(result)\n",
    "elif action == \"**\":\n",
    "    result = num_1**num_2\n",
    "    print(result)\n",
    "else:\n",
    "    print('Enter correct operator.')"
   ]
  },
  {
   "cell_type": "code",
   "execution_count": 2,
   "metadata": {},
   "outputs": [
    {
     "name": "stdout",
     "output_type": "stream",
     "text": [
      "78 it is numeric value.\n",
      "33 it is numeric value.\n",
      "3 it is numeric value.\n",
      "musawwir  it is not numeric value.\n",
      "mustaqeem  it is not numeric value.\n",
      "salman  it is not numeric value.\n",
      "0.3 it is numeric value.\n",
      "4.7 it is numeric value.\n"
     ]
    }
   ],
   "source": [
    "##question 2##\n",
    "list = [78, 33, 3, \"musawwir\", \"mustaqeem\", \"salman\", 0.3, 4.7]\n",
    "for a in (list):\n",
    "    if a ==(str(a)):\n",
    "        print(f'{a}  it is not numeric value.')\n",
    "    else:\n",
    "        print( f\"{a} it is numeric value.\")"
   ]
  },
  {
   "cell_type": "code",
   "execution_count": 4,
   "metadata": {},
   "outputs": [
    {
     "data": {
      "text/plain": [
       "{'ice_cream flovour': ['vanila', 'choclate', 'peshawari', 'crunch'],\n",
       " 'fast_food': ['burger', 'pizza', 'broast'],\n",
       " 'beverages': ['tea', 'coffee', 'soft drink', 'juice', 'sweets', 'lemonade']}"
      ]
     },
     "execution_count": 4,
     "metadata": {},
     "output_type": "execute_result"
    }
   ],
   "source": [
    "##question 3##\n",
    "dict = {'ice_cream flovour': ['vanila', 'choclate', 'peshawari', 'crunch'], 'fast_food': ['burger', 'pizza', 'broast']}\n",
    "dict['beverages']=['tea', 'coffee', 'soft drink', 'juice', 'sweets', 'lemonade']\n",
    "dict"
   ]
  },
  {
   "cell_type": "code",
   "execution_count": 5,
   "metadata": {},
   "outputs": [
    {
     "name": "stdout",
     "output_type": "stream",
     "text": [
      "dict_values([1, 3, 0])\n",
      "sum all the numeric items in this dictionary: 4\n"
     ]
    }
   ],
   "source": [
    "##question 4##\n",
    "dict_1 = {'number1': 1, 'number2': 3, 'number3': 0}\n",
    "print(dict_1.values())\n",
    "print('sum all the numeric items in this dictionary:' , sum(dict_1.values()))"
   ]
  },
  {
   "cell_type": "code",
   "execution_count": 7,
   "metadata": {},
   "outputs": [
    {
     "name": "stdout",
     "output_type": "stream",
     "text": [
      "[2, 3, 4, 29, 140]\n"
     ]
    }
   ],
   "source": [
    "##question 5##\n",
    "def Repeat(x): \n",
    "    size = len(x) \n",
    "    repeated = [] \n",
    "    for i in range(size): \n",
    "        a = i + 1\n",
    "        for b in range(a, size): \n",
    "            if x[i] == x[b] and x[i] not in repeated: \n",
    "                repeated.append(x[i]) \n",
    "    return repeated \n",
    "lst = [1, 2, 3, 4, 5, 2, 4, 6, 3, 4, 2,29, 29, 140, 140]\n",
    "print(Repeat(lst))"
   ]
  },
  {
   "cell_type": "code",
   "execution_count": 37,
   "metadata": {},
   "outputs": [
    {
     "name": "stdout",
     "output_type": "stream",
     "text": [
      "Please enter the Key you want to search for: matric\n",
      "Key is already exist.\n"
     ]
    }
   ],
   "source": [
    "##question 6##\n",
    "d = {'matric': 2, 'inter':5, 'undergard': 6, 'postgrad': 3, 'phd':6,}\n",
    "key = input(\"Please enter the Key you want to search for: \")\n",
    "for i in d:\n",
    "    i== key\n",
    "    print('Key is already exist.')\n",
    "    break\n",
    "else:\n",
    "    print('Key is not exist.')"
   ]
  }
 ],
 "metadata": {
  "kernelspec": {
   "display_name": "Python 3",
   "language": "python",
   "name": "python3"
  },
  "language_info": {
   "codemirror_mode": {
    "name": "ipython",
    "version": 3
   },
   "file_extension": ".py",
   "mimetype": "text/x-python",
   "name": "python",
   "nbconvert_exporter": "python",
   "pygments_lexer": "ipython3",
   "version": "3.7.3"
  }
 },
 "nbformat": 4,
 "nbformat_minor": 2
}
