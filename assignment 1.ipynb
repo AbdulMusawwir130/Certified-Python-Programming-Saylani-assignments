{
 "cells": [
  {
   "cell_type": "code",
   "execution_count": null,
   "metadata": {},
   "outputs": [],
   "source": []
  },
  {
   "cell_type": "code",
   "execution_count": 19,
   "metadata": {},
   "outputs": [
    {
     "name": "stdout",
     "output_type": "stream",
     "text": [
      "Twinkle, twinkle, little star,\n",
      "      How I wonder what you are!\n",
      "            Up above the world so high,\n",
      "            Like a diamond in the sky.\n",
      "Twinkle, twinkle, little star,\n",
      "      How I wonder what you are\n"
     ]
    }
   ],
   "source": [
    "## Assisgnment 1\n",
    "## q1\n",
    "n1 = \"Twinkle,\"\n",
    "n2 = \"twinkle,\"\n",
    "n3 = \"little star,\"\n",
    "print(n1 , n2, n3) \n",
    "print(\"      How I wonder what you are!\")\n",
    "print(\"            Up above the world so high,\")\n",
    "print(\"            Like a diamond in the sky.\")\n",
    "print(n1 , n2, n3)\n",
    "print(\"      How I wonder what you are\")"
   ]
  },
  {
   "cell_type": "code",
   "execution_count": 22,
   "metadata": {},
   "outputs": [
    {
     "name": "stdout",
     "output_type": "stream",
     "text": [
      "3.7.3 (default, Apr 24 2019, 15:29:51) [MSC v.1915 64 bit (AMD64)]\n"
     ]
    }
   ],
   "source": [
    "##q2\n",
    "import sys\n",
    "print(sys.version)"
   ]
  },
  {
   "cell_type": "code",
   "execution_count": 27,
   "metadata": {},
   "outputs": [
    {
     "name": "stdout",
     "output_type": "stream",
     "text": [
      "2019-11-22 21:21:06.531601\n"
     ]
    }
   ],
   "source": [
    "##q3\n",
    "import datetime\n",
    "print(datetime.datetime.now())"
   ]
  },
  {
   "cell_type": "code",
   "execution_count": 35,
   "metadata": {},
   "outputs": [
    {
     "name": "stdout",
     "output_type": "stream",
     "text": [
      "enter radius?2\n",
      "area of circle =\n",
      "12.56\n"
     ]
    }
   ],
   "source": [
    "##q4\n",
    "r = float(input(\"enter radius?\")) \n",
    "p = 3.14\n",
    "a = p*r*r\n",
    "print(\"area of circle =\"); print(a)"
   ]
  },
  {
   "cell_type": "code",
   "execution_count": 38,
   "metadata": {},
   "outputs": [
    {
     "name": "stdout",
     "output_type": "stream",
     "text": [
      "Enter first namen\n",
      "Enter last namez\n",
      "z   n\n"
     ]
    }
   ],
   "source": [
    "##q5\n",
    "a = input(\"Enter first name\")\n",
    "b = input(\"Enter last name\")\n",
    "print(b,' ',a)"
   ]
  },
  {
   "cell_type": "code",
   "execution_count": 41,
   "metadata": {},
   "outputs": [
    {
     "name": "stdout",
     "output_type": "stream",
     "text": [
      "Enter first number8\n",
      "Enter second nnumber9\n",
      "17\n"
     ]
    }
   ],
   "source": [
    "##q6\n",
    "a = int(input(\"Enter first number\"))\n",
    "b = int(input(\"Enter second nnumber\"))\n",
    "x = a + b\n",
    "print(x)"
   ]
  }
 ],
 "metadata": {
  "kernelspec": {
   "display_name": "Python 3",
   "language": "python",
   "name": "python3"
  },
  "language_info": {
   "codemirror_mode": {
    "name": "ipython",
    "version": 3
   },
   "file_extension": ".py",
   "mimetype": "text/x-python",
   "name": "python",
   "nbconvert_exporter": "python",
   "pygments_lexer": "ipython3",
   "version": "3.7.3"
  }
 },
 "nbformat": 4,
 "nbformat_minor": 2
}
