{
 "cells": [
  {
   "cell_type": "code",
   "execution_count": null,
   "metadata": {},
   "outputs": [],
   "source": [
    "##Mark Sheet\n",
    "english = int(input(\"Enter number in English?\"));\n",
    "math = int(input(\"Enter number in Math?\"));\n",
    "physics = int(input(\"Enter number in Physics?\"));\n",
    "chemistry = int(input(\"Enter number in Chemistry?\"));\n",
    "history = int(input(\"Enter number in History?\"));\n",
    "total = english + math + physics + chemisrty + history\n",
    "print (total, \"out of 500\");\n",
    "percent = total/500\n",
    "if percent >= 80 and percent <= 100:\n",
    "    print(\"A+\")\n",
    "elif percent >=70 and percent <= 80:\n",
    "    print(\"A\")\n",
    "elif percent >= 60 and percent <= 70:\n",
    "    print (\"B\")\n",
    "elif percent <= 0 and percent < 60:\n",
    "    print(\"Fail\")\n",
    "else: \n",
    "    print(\"wrong marks entered\")"
   ]
  },
  {
   "cell_type": "code",
   "execution_count": null,
   "metadata": {},
   "outputs": [],
   "source": [
    "##\"odd or even number\"\n",
    "number = int(input\"enter number?\"\")\n",
    "result = number%2\n",
    "if result = 0: \n",
    "print(\"even\")\n",
    "else print (\"odd\")"
   ]
  },
  {
   "cell_type": "code",
   "execution_count": null,
   "metadata": {},
   "outputs": [],
   "source": []
  }
 ],
 "metadata": {
  "kernelspec": {
   "display_name": "Python 3",
   "language": "python",
   "name": "python3"
  },
  "language_info": {
   "codemirror_mode": {
    "name": "ipython",
    "version": 3
   },
   "file_extension": ".py",
   "mimetype": "text/x-python",
   "name": "python",
   "nbconvert_exporter": "python",
   "pygments_lexer": "ipython3",
   "version": "3.7.3"
  }
 },
 "nbformat": 4,
 "nbformat_minor": 2
}
