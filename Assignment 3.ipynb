{
 "cells": [
  {
   "cell_type": "code",
   "execution_count": 2,
   "metadata": {},
   "outputs": [
    {
     "ename": "IndentationError",
     "evalue": "expected an indented block (<ipython-input-2-44194feb320b>, line 20)",
     "output_type": "error",
     "traceback": [
      "\u001b[1;36m  File \u001b[1;32m\"<ipython-input-2-44194feb320b>\"\u001b[1;36m, line \u001b[1;32m20\u001b[0m\n\u001b[1;33m    k = k * a:\u001b[0m\n\u001b[1;37m    ^\u001b[0m\n\u001b[1;31mIndentationError\u001b[0m\u001b[1;31m:\u001b[0m expected an indented block\n"
     ]
    }
   ],
   "source": [
    "a = input(\"enter first value?\")\n",
    "b = input(\"enter second value?\")\n",
    "op = input(\"enter operator\")\n",
    "\n",
    "if op == '+':\n",
    "    c = a + b\n",
    "    print(c, 'answer')\n",
    "elif op == '-':\n",
    "    c = a - b\n",
    "    print(c, 'answer')\n",
    "elif op == '*':\n",
    "    c = a * b\n",
    "    print(c, 'answer')\n",
    "elif op == '/':\n",
    "    c = a / b\n",
    "    print(c, 'answer')\n",
    "elif op == '^':\n",
    "    n = 1\n",
    "    for n in range (b):\n",
    "    k = k * a:\n",
    "    print(k)"
   ]
  },
  {
   "cell_type": "code",
   "execution_count": null,
   "metadata": {},
   "outputs": [],
   "source": []
  }
 ],
 "metadata": {
  "kernelspec": {
   "display_name": "Python 3",
   "language": "python",
   "name": "python3"
  },
  "language_info": {
   "codemirror_mode": {
    "name": "ipython",
    "version": 3
   },
   "file_extension": ".py",
   "mimetype": "text/x-python",
   "name": "python",
   "nbconvert_exporter": "python",
   "pygments_lexer": "ipython3",
   "version": "3.7.3"
  }
 },
 "nbformat": 4,
 "nbformat_minor": 2
}
