{
 "cells": [
  {
   "cell_type": "code",
   "execution_count": 2,
   "metadata": {
    "scrolled": true
   },
   "outputs": [
    {
     "name": "stdout",
     "output_type": "stream",
     "text": [
      "Enter number in English?4\n",
      "Enter number in Math?5\n",
      "Enter number in Physics?6\n",
      "Enter number in Chemistry?7\n",
      "Enter number in History?8\n",
      "30 out of 500\n",
      "wrong marks entered\n"
     ]
    }
   ],
   "source": [
    "english = int(input(\"Enter number in English?\"))\n",
    "math = int(input(\"Enter number in Math?\"))\n",
    "physics = int(input(\"Enter number in Physics?\"))\n",
    "chemistry = int(input(\"Enter number in Chemistry?\"))\n",
    "history = int(input(\"Enter number in History?\"))\n",
    "total = english + math + physics + chemistry + history\n",
    "print (total, \"out of 500\");\n",
    "percent = (total/500)* 100\n",
    "if percent >= 80 and percent <= 100:\n",
    "    print(\"A+\")\n",
    "elif percent >=70 and percent <= 80:\n",
    "    print(\"A\")\n",
    "elif percent >= 60 and percent <= 70:\n",
    "    print (\"B\")\n",
    "elif percent <= 0 and percent < 60:\n",
    "    print(\"Fail\")\n",
    "else: \n",
    "    print(\"wrong marks entered\")"
   ]
  },
  {
   "cell_type": "code",
   "execution_count": 6,
   "metadata": {},
   "outputs": [
    {
     "name": "stdout",
     "output_type": "stream",
     "text": [
      "enter7\n",
      "number is odd\n"
     ]
    }
   ],
   "source": [
    "number = int(input(\"enter\"))\n",
    "result = number % 2\n",
    "if result == 0:\n",
    "    print(\"number is even\")\n",
    "else:\n",
    "    print(\"number is odd\")"
   ]
  },
  {
   "cell_type": "code",
   "execution_count": 7,
   "metadata": {},
   "outputs": [
    {
     "name": "stdout",
     "output_type": "stream",
     "text": [
      "length of list =  5\n"
     ]
    }
   ],
   "source": [
    "listname = [\"hello\", \"eurka\", 1, 2,3]\n",
    "print(\"length of list = \", len(listname))"
   ]
  },
  {
   "cell_type": "code",
   "execution_count": 10,
   "metadata": {},
   "outputs": [
    {
     "name": "stdout",
     "output_type": "stream",
     "text": [
      "21\n"
     ]
    }
   ],
   "source": [
    "list = [7, 8, 1, 2,3]\n",
    "print(sum(list))"
   ]
  },
  {
   "cell_type": "code",
   "execution_count": 11,
   "metadata": {},
   "outputs": [
    {
     "name": "stdout",
     "output_type": "stream",
     "text": [
      "8\n"
     ]
    }
   ],
   "source": [
    "li = [7, 8, 1, 2,3]\n",
    "print(max(li))"
   ]
  },
  {
   "cell_type": "code",
   "execution_count": 13,
   "metadata": {},
   "outputs": [
    {
     "ename": "TypeError",
     "evalue": "'<=' not supported between instances of 'list' and 'int'",
     "output_type": "error",
     "traceback": [
      "\u001b[1;31m---------------------------------------------------------------------------\u001b[0m",
      "\u001b[1;31mTypeError\u001b[0m                                 Traceback (most recent call last)",
      "\u001b[1;32m<ipython-input-13-566d9bee2968>\u001b[0m in \u001b[0;36m<module>\u001b[1;34m\u001b[0m\n\u001b[0;32m      1\u001b[0m \u001b[0mlis\u001b[0m \u001b[1;33m=\u001b[0m \u001b[1;33m[\u001b[0m\u001b[1;36m7\u001b[0m\u001b[1;33m,\u001b[0m \u001b[1;36m8\u001b[0m\u001b[1;33m,\u001b[0m \u001b[1;36m1\u001b[0m\u001b[1;33m,\u001b[0m \u001b[1;36m2\u001b[0m\u001b[1;33m,\u001b[0m\u001b[1;36m3\u001b[0m\u001b[1;33m]\u001b[0m\u001b[1;33m\u001b[0m\u001b[1;33m\u001b[0m\u001b[0m\n\u001b[1;32m----> 2\u001b[1;33m \u001b[0mprint\u001b[0m\u001b[1;33m(\u001b[0m\u001b[1;33m(\u001b[0m\u001b[0mlis\u001b[0m\u001b[1;33m)\u001b[0m\u001b[1;33m<=\u001b[0m\u001b[1;36m5\u001b[0m\u001b[1;33m)\u001b[0m\u001b[1;33m\u001b[0m\u001b[1;33m\u001b[0m\u001b[0m\n\u001b[0m",
      "\u001b[1;31mTypeError\u001b[0m: '<=' not supported between instances of 'list' and 'int'"
     ]
    }
   ],
   "source": [
    "lis = [7, 8, 1, 2,3]\n",
    "print((lis)<=5)"
   ]
  },
  {
   "cell_type": "code",
   "execution_count": null,
   "metadata": {},
   "outputs": [],
   "source": []
  }
 ],
 "metadata": {
  "kernelspec": {
   "display_name": "Python 3",
   "language": "python",
   "name": "python3"
  },
  "language_info": {
   "codemirror_mode": {
    "name": "ipython",
    "version": 3
   },
   "file_extension": ".py",
   "mimetype": "text/x-python",
   "name": "python",
   "nbconvert_exporter": "python",
   "pygments_lexer": "ipython3",
   "version": "3.7.3"
  }
 },
 "nbformat": 4,
 "nbformat_minor": 2
}
