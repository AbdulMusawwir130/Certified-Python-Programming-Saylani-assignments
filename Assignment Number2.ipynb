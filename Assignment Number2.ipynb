{
 "cells": [
  {
   "cell_type": "code",
   "execution_count": 2,
   "metadata": {
    "scrolled": true
   },
   "outputs": [
    {
     "name": "stdout",
     "output_type": "stream",
     "text": [
      "Enter number in English?4\n",
      "Enter number in Math?5\n",
      "Enter number in Physics?6\n",
      "Enter number in Chemistry?7\n",
      "Enter number in History?8\n",
      "30 out of 500\n",
      "wrong marks entered\n"
     ]
    }
   ],
   "source": [
    "##question 1##\n",
    "english = int(input(\"Enter number in English?\"))\n",
    "math = int(input(\"Enter number in Math?\"))\n",
    "physics = int(input(\"Enter number in Physics?\"))\n",
    "chemistry = int(input(\"Enter number in Chemistry?\"))\n",
    "history = int(input(\"Enter number in History?\"))\n",
    "total = english + math + physics + chemistry + history\n",
    "print (total, \"out of 500\");\n",
    "percent = (total/500)* 100\n",
    "if percent >= 80 and percent <= 100:\n",
    "    print(\"A+\")\n",
    "elif percent >=70 and percent <= 80:\n",
    "    print(\"A\")\n",
    "elif percent >= 60 and percent <= 70:\n",
    "    print (\"B\")\n",
    "elif percent <= 0 and percent < 60:\n",
    "    print(\"Fail\")\n",
    "else: \n",
    "    print(\"wrong marks entered\")"
   ]
  },
  {
   "cell_type": "code",
   "execution_count": 6,
   "metadata": {},
   "outputs": [
    {
     "name": "stdout",
     "output_type": "stream",
     "text": [
      "enter7\n",
      "number is odd\n"
     ]
    }
   ],
   "source": [
    "##question 2##\n",
    "number = int(input(\"enter\"))\n",
    "result = number % 2\n",
    "if result == 0:\n",
    "    print(\"number is even\")\n",
    "else:\n",
    "    print(\"number is odd\")"
   ]
  },
  {
   "cell_type": "code",
   "execution_count": 7,
   "metadata": {},
   "outputs": [
    {
     "name": "stdout",
     "output_type": "stream",
     "text": [
      "length of list =  5\n"
     ]
    }
   ],
   "source": [
    "##question 3##\n",
    "listname = [\"hello\", \"eurka\", 1, 2,3]\n",
    "print(\"length of list = \", len(listname))"
   ]
  },
  {
   "cell_type": "code",
   "execution_count": 10,
   "metadata": {},
   "outputs": [
    {
     "name": "stdout",
     "output_type": "stream",
     "text": [
      "21\n"
     ]
    }
   ],
   "source": [
    "##question 4##\n",
    "list = [7, 8, 1, 2,3]\n",
    "print(sum(list))"
   ]
  },
  {
   "cell_type": "code",
   "execution_count": 11,
   "metadata": {},
   "outputs": [
    {
     "name": "stdout",
     "output_type": "stream",
     "text": [
      "8\n"
     ]
    }
   ],
   "source": [
    "##question 5##\n",
    "li = [7, 8, 1, 2,3]\n",
    "print(max(li))"
   ]
  },
  {
   "cell_type": "code",
   "execution_count": 4,
   "metadata": {},
   "outputs": [
    {
     "name": "stdout",
     "output_type": "stream",
     "text": [
      "1\n",
      "1\n",
      "2\n",
      "3\n"
     ]
    }
   ],
   "source": [
    "##question 6##\n",
    "lis = [1,1,2,3,5,8,13,21,34,55,89]\n",
    "for b in lis:\n",
    "    if b<5:\n",
    "        print(b)"
   ]
  },
  {
   "cell_type": "code",
   "execution_count": null,
   "metadata": {},
   "outputs": [],
   "source": []
  }
 ],
 "metadata": {
  "kernelspec": {
   "display_name": "Python 3",
   "language": "python",
   "name": "python3"
  },
  "language_info": {
   "codemirror_mode": {
    "name": "ipython",
    "version": 3
   },
   "file_extension": ".py",
   "mimetype": "text/x-python",
   "name": "python",
   "nbconvert_exporter": "python",
   "pygments_lexer": "ipython3",
   "version": "3.7.3"
  }
 },
 "nbformat": 4,
 "nbformat_minor": 2
}
