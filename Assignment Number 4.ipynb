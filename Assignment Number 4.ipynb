{
 "cells": [
  {
   "cell_type": "code",
   "execution_count": 1,
   "metadata": {},
   "outputs": [
    {
     "name": "stdout",
     "output_type": "stream",
     "text": [
      "first name is Muhammad\n",
      "last name is Musawwir\n",
      "age is 28\n",
      "city is Karachi\n"
     ]
    }
   ],
   "source": [
    "##question 1##\n",
    "person_info = {\n",
    "    \"first name\": \"Muhammad\", \n",
    "    \"last name\": \"Musawwir\",\n",
    "    \"age\": \"28\",\n",
    "    \"city\": \"Karachi\"\n",
    "}\n",
    "for each_key, each_value in person_info.items():\n",
    "    {print(each_key + \" is \" +each_value)}\n",
    "person_info[\"qualification\"] = \"Bachelor of Engineering\"\n",
    "person_info[\"qualification\"] = \"Master of Engineering\"\n",
    "del person_info[\"qualification\"]"
   ]
  },
  {
   "cell_type": "code",
   "execution_count": 3,
   "metadata": {},
   "outputs": [
    {
     "name": "stdout",
     "output_type": "stream",
     "text": [
      "Karachi :\n",
      "\n",
      "\tCountry : Pakistan\n",
      "\n",
      "\tPopulation : 14.91 Million\n",
      "\n",
      "\tFact : Capital Of The Pakistani Province Of Sindh\n",
      "\n",
      "Istanbul :\n",
      "\n",
      "\tCountry : Turkey\n",
      "\n",
      "\tPopulation : 15.07 Million\n",
      "\n",
      "\tFact : Major City Of Turkey\n",
      "\n",
      "London :\n",
      "\n",
      "\tCountry : England\n",
      "\n",
      "\tPopulation : 8.9 Million\n",
      "\n",
      "\tFact : Capital Of England\n",
      "\n"
     ]
    }
   ],
   "source": [
    "##question 2##\n",
    "cities ={\n",
    " \"karachi\": {\n",
    "    \"country\": \"Pakistan\",\n",
    "    \"population\": \"14.91 million\",\n",
    "    \"fact\": \"capital of the Pakistani province of Sindh\"\n",
    "    },\n",
    " \"istanbul\": {\n",
    "    \"country\": \"Turkey\",\n",
    "    \"population\": \"15.07 million\",\n",
    "    \"fact\": \"major city of turkey\"\n",
    "    },\n",
    " \"london\": {\n",
    "    \"country\": \"England\",\n",
    "    \"population\": \"8.9 million\",\n",
    "    \"fact\": \"capital of england\"   \n",
    "    },\n",
    "}\n",
    "for name in cities:\n",
    "    print(name.title(),\":\\n\")\n",
    "    for x,y in cities[name].items():\n",
    "        print(f'\\t{x} : {y}\\n'.title())"
   ]
  },
  {
   "cell_type": "code",
   "execution_count": 6,
   "metadata": {},
   "outputs": [
    {
     "name": "stdout",
     "output_type": "stream",
     "text": [
      "Enter s to stop!\n",
      "please enter your age? 6\n",
      "\n",
      "Ticket Price is $10\n",
      "please enter your age? 2\n",
      "\n",
      "Your Ticket is Free!\n",
      "please enter your age? 13\n",
      "\n",
      "Ticket Price is $15\n",
      "please enter your age? s\n"
     ]
    }
   ],
   "source": [
    "##question 3##\n",
    "print(\"Enter s to stop!\")\n",
    "while True:\n",
    "    age = input(\"please enter your age? \")\n",
    "    if age in \"sS\":\n",
    "        break\n",
    "    else:\n",
    "        if int(age) >= 1 and int(age) <= 3:\n",
    "            print(\"\\nYour Ticket is Free!\")\n",
    "        elif int(age) > 3 and int(age) <= 12:\n",
    "            print(\"\\nTicket Price is $10\")\n",
    "        elif int(age) > 12:\n",
    "            print(\"\\nTicket Price is $15\")\n",
    "        else:\n",
    "            print(\"\\nInvalid Age!\")"
   ]
  },
  {
   "cell_type": "code",
   "execution_count": 11,
   "metadata": {},
   "outputs": [
    {
     "name": "stdout",
     "output_type": "stream",
     "text": [
      "My Favorite Book Is Alice In The Wonderland \n"
     ]
    }
   ],
   "source": [
    "##question 4##\n",
    "def favorite_book(title):\n",
    "    print(f'my favorite book is {title} '.title())\n",
    "\n",
    "favorite_book(\"alice in the wonderland\")"
   ]
  },
  {
   "cell_type": "code",
   "execution_count": 18,
   "metadata": {},
   "outputs": [
    {
     "name": "stdout",
     "output_type": "stream",
     "text": [
      "Guess the Number : 5\n",
      "nice try,but the number is greater : \n",
      "Guess the Number : 9\n",
      "nice try,but the number is greater : \n",
      "Guess the Number : 13\n",
      "nice try,but the number is greater : \n",
      "\n",
      "\t---Game Over---\n",
      "\n",
      "\tNice Try,The Correct Number Was :  24\n"
     ]
    }
   ],
   "source": [
    "##question 5##\n",
    "import random\n",
    "guess = 0\n",
    "number = random.randint(1,31)\n",
    "\n",
    "while guess != 3:\n",
    "    guess += 1\n",
    "    answer = int(input('Guess the Number : ' ))\n",
    "    if answer == number:\n",
    "        print('congrats correct number')\n",
    "        break\n",
    "    elif answer > number:\n",
    "        print('nice try,but the number is smaller : ')\n",
    "    elif answer < number:\n",
    "        print('nice try,but the number is greater : ')\n",
    "    while guess == 3:\n",
    "        print('\\n\\t---Game Over---')\n",
    "        print('\\n\\tnice try,the correct number was : '.title(), number)\n",
    "        break"
   ]
  },
  {
   "cell_type": "markdown",
   "metadata": {},
   "source": []
  }
 ],
 "metadata": {
  "kernelspec": {
   "display_name": "Python 3",
   "language": "python",
   "name": "python3"
  },
  "language_info": {
   "codemirror_mode": {
    "name": "ipython",
    "version": 3
   },
   "file_extension": ".py",
   "mimetype": "text/x-python",
   "name": "python",
   "nbconvert_exporter": "python",
   "pygments_lexer": "ipython3",
   "version": "3.7.3"
  }
 },
 "nbformat": 4,
 "nbformat_minor": 2
}
