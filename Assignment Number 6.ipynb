{
 "cells": [
  {
   "cell_type": "code",
   "execution_count": null,
   "metadata": {},
   "outputs": [],
   "source": [
    "##question 1##\n",
    "print(' Object Oriented Programming is the pattern of codes that deals in terms of Objects and their intractions ')"
   ]
  },
  {
   "cell_type": "code",
   "execution_count": null,
   "metadata": {},
   "outputs": [],
   "source": [
    "## question 2##\n",
    "print(\n",
    "\"Benefits of OOP:\"    \n",
    "\"1.inheritance, let us reuse the class without coding the new one.\n",
    "\"2.it is easy to maintain the data in object oriented programming.\n",
    "\"3.helps in reducing messi-coding,by which codes become more simple, readable and understandable.\n",
    "\")"
   ]
  },
  {
   "cell_type": "code",
   "execution_count": null,
   "metadata": {},
   "outputs": [],
   "source": [
    "##question 3##\n",
    "print(\"Function is the collection of codes and Method is functionality of object or a Function in class\")"
   ]
  },
  {
   "cell_type": "code",
   "execution_count": null,
   "metadata": {},
   "outputs": [],
   "source": [
    "##question 4##\n",
    "print(\n",
    "\"Class is the template or blueprint of an object.\"\n",
    "\"Object is the data structure which is defined by its class\"\n",
    "\"Attribute is a variable that holds data of class\"\n",
    "\"Behavior is Actions of function\")"
   ]
  },
  {
   "cell_type": "code",
   "execution_count": 1,
   "metadata": {},
   "outputs": [
    {
     "name": "stdout",
     "output_type": "stream",
     "text": [
      "==================================\n",
      "\t\t *** Car 1 *** \n",
      "\n",
      "The car Name is  :  Suzuki\n",
      "The car Model is :  Mehran\n",
      "The car Color is :  White\n",
      "==================================\n",
      "\n",
      "\t\t *** Car 2 *** \n",
      "\n",
      "The car Name is  :  TOYOTA\n",
      "The car Model is :  Corolla\n",
      "The car Color is :  White\n",
      "==================================\n",
      "\n",
      "\t\t *** Car 3 *** \n",
      "\n",
      "The car Name is  :  Honda\n",
      "The car Model is :  Civic\n",
      "The car Color is :  Blue\n",
      "==================================\n",
      "\n",
      "\t\t *** Car 4 *** \n",
      "\n",
      "The car Name is  :  Suzuki\n",
      "The car Model is :  Wagon R\n",
      "The car Color is :  Red\n",
      "==================================\n",
      "\n",
      "\t\t *** Car 5 *** \n",
      "\n",
      "The car Name is  :  TOYOTA\n",
      "The car Model is :  Hilux\n",
      "The car Color is :  Red\n"
     ]
    }
   ],
   "source": [
    "##question 5##\n",
    "class car:\n",
    "    def __init__(self,Name,Model,Color):\n",
    "        self.Name = Name\n",
    "        self.Model = Model\n",
    "        self.Color = Color\n",
    "\n",
    "        \n",
    "    \n",
    "car_1 = car('Suzuki','WagonR','White')\n",
    "car_2 = car('TOYOTA','AltisCorolla','Black')\n",
    "car_3 = car('Honda','Accord','Red')\n",
    "car_4 = car('Suzuki','Cultus','Red')\n",
    "car_5 = car('TOYOTA','Camri','Orange')\n",
    "\n",
    "print('==================================')\n",
    "print(\"\\t\\t *** Car 1 *** \\n\")\n",
    "\n",
    "print('The car Name is  : ',car_1.Name)\n",
    "print('The car Model is : ',car_1.Model)\n",
    "print('The car Color is : ',car_1.Color)\n",
    "\n",
    "\n",
    "print('==================================')\n",
    "print(\"\\n\\t\\t *** Car 2 *** \\n\")\n",
    "\n",
    "print('The car Name is  : ',car_2.Name)\n",
    "print('The car Model is : ',car_2.Model)\n",
    "print('The car Color is : ',car_2.Color)\n",
    "\n",
    "\n",
    "print('==================================')\n",
    "print(\"\\n\\t\\t *** Car 3 *** \\n\")\n",
    "\n",
    "print('The car Name is  : ',car_3.Name)\n",
    "print('The car Model is : ',car_3.Model)\n",
    "print('The car Color is : ',car_3.Color)\n",
    "\n",
    "\n",
    "print('==================================')\n",
    "print(\"\\n\\t\\t *** Car 4 *** \\n\")\n",
    "\n",
    "print('The car Name is  : ',car_4.Name)\n",
    "print('The car Model is : ',car_4.Model)\n",
    "print('The car Color is : ',car_4.Color)\n",
    "\n",
    "print('==================================')\n",
    "print(\"\\n\\t\\t *** Car 5 *** \\n\")\n",
    "\n",
    "print('The car Name is  : ',car_5.Name)\n",
    "print('The car Model is : ',car_5.Model)\n",
    "print('The car Color is : ',car_5.Color)"
   ]
  },
  {
   "cell_type": "code",
   "execution_count": null,
   "metadata": {},
   "outputs": [],
   "source": []
  }
 ],
 "metadata": {
  "kernelspec": {
   "display_name": "Python 3",
   "language": "python",
   "name": "python3"
  },
  "language_info": {
   "codemirror_mode": {
    "name": "ipython",
    "version": 3
   },
   "file_extension": ".py",
   "mimetype": "text/x-python",
   "name": "python",
   "nbconvert_exporter": "python",
   "pygments_lexer": "ipython3",
   "version": "3.7.3"
  }
 },
 "nbformat": 4,
 "nbformat_minor": 2
}
